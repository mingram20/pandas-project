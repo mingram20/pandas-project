{
 "cells": [
  {
   "cell_type": "markdown",
   "metadata": {},
   "source": [
    "Heroes of Pymoli Data Analysis"
   ]
  },
  {
   "cell_type": "code",
   "execution_count": 49,
   "metadata": {
    "scrolled": true
   },
   "outputs": [],
   "source": [
    "# import dependencies\n",
    "import pandas as pd\n",
    "import numpy as np\n",
    "import os\n",
    "\n",
    "# file to load\n",
    "heroPy = os.path.join('purchase_data.csv')\n",
    "\n",
    "# store file in pandas pandas DF\n",
    "heroFile = pd.read_csv(heroPy)\n",
    "# preview file\n",
    "# heroFile.head()"
   ]
  },
  {
   "cell_type": "markdown",
   "metadata": {},
   "source": [
    "Player Count"
   ]
  },
  {
   "cell_type": "code",
   "execution_count": 58,
   "metadata": {},
   "outputs": [
    {
     "ename": "SyntaxError",
     "evalue": "invalid syntax (<ipython-input-58-7dccd41dad1e>, line 5)",
     "output_type": "error",
     "traceback": [
      "\u001b[1;36m  File \u001b[1;32m\"<ipython-input-58-7dccd41dad1e>\"\u001b[1;36m, line \u001b[1;32m5\u001b[0m\n\u001b[1;33m    plyDF\u001b[0m\n\u001b[1;37m        ^\u001b[0m\n\u001b[1;31mSyntaxError\u001b[0m\u001b[1;31m:\u001b[0m invalid syntax\n"
     ]
    }
   ],
   "source": [
    "# find length of total number of unique screen names\n",
    "plyCount = heroFile['SN'].nunique()\n",
    "plyDF = pd.DataFrame({'Total Players': [plyCount], columns== [\"Total Players\"]\n",
    "# print out Total Players\n",
    "plyDF"
   ]
  },
  {
   "cell_type": "code",
   "execution_count": null,
   "metadata": {},
   "outputs": [],
   "source": []
  },
  {
   "cell_type": "code",
   "execution_count": 46,
   "metadata": {
    "scrolled": true
   },
   "outputs": [
    {
     "data": {
      "text/html": [
       "<div>\n",
       "<style scoped>\n",
       "    .dataframe tbody tr th:only-of-type {\n",
       "        vertical-align: middle;\n",
       "    }\n",
       "\n",
       "    .dataframe tbody tr th {\n",
       "        vertical-align: top;\n",
       "    }\n",
       "\n",
       "    .dataframe thead th {\n",
       "        text-align: right;\n",
       "    }\n",
       "</style>\n",
       "<table border=\"1\" class=\"dataframe\">\n",
       "  <thead>\n",
       "    <tr style=\"text-align: right;\">\n",
       "      <th></th>\n",
       "      <th># of Unique Items</th>\n",
       "      <th>Avg. Price</th>\n",
       "      <th>Number of Purchases</th>\n",
       "      <th>Total Revenue</th>\n",
       "    </tr>\n",
       "  </thead>\n",
       "  <tbody>\n",
       "    <tr>\n",
       "      <th>0</th>\n",
       "      <td>179</td>\n",
       "      <td>$3.05</td>\n",
       "      <td>780</td>\n",
       "      <td>$2,379.77</td>\n",
       "    </tr>\n",
       "  </tbody>\n",
       "</table>\n",
       "</div>"
      ],
      "text/plain": [
       "   # of Unique Items Avg. Price  Number of Purchases Total Revenue\n",
       "0                179      $3.05                  780     $2,379.77"
      ]
     },
     "execution_count": 46,
     "metadata": {},
     "output_type": "execute_result"
    }
   ],
   "source": [
    "numUni = heroFile['Item Name'].nunique()\n",
    "avgPrice = ('${:,.2f}'.format(heroFile['Price'].mean()))\n",
    "numPur = (heroFile['Purchase ID'].count())\n",
    "totRev = ('${:,.2f}'.format(heroFile['Price'].sum()))\n",
    "\n",
    "\n",
    "purchAnalysis = pd.DataFrame({'# of Unique Items': [numUni],\n",
    "                             'Avg. Price': [avgPrice],\n",
    "                              'Number of Purchases':[numPur],\n",
    "                              'Total Revenue':[totRev]})\n",
    "purchAnalysis\n"
   ]
  },
  {
   "cell_type": "code",
   "execution_count": null,
   "metadata": {},
   "outputs": [],
   "source": []
  },
  {
   "cell_type": "code",
   "execution_count": 4,
   "metadata": {
    "scrolled": true
   },
   "outputs": [
    {
     "data": {
      "text/html": [
       "<div>\n",
       "<style scoped>\n",
       "    .dataframe tbody tr th:only-of-type {\n",
       "        vertical-align: middle;\n",
       "    }\n",
       "\n",
       "    .dataframe tbody tr th {\n",
       "        vertical-align: top;\n",
       "    }\n",
       "\n",
       "    .dataframe thead th {\n",
       "        text-align: right;\n",
       "    }\n",
       "</style>\n",
       "<table border=\"1\" class=\"dataframe\">\n",
       "  <thead>\n",
       "    <tr style=\"text-align: right;\">\n",
       "      <th></th>\n",
       "      <th>Total Count</th>\n",
       "      <th>% of Players</th>\n",
       "    </tr>\n",
       "    <tr>\n",
       "      <th>Gender</th>\n",
       "      <th></th>\n",
       "      <th></th>\n",
       "    </tr>\n",
       "  </thead>\n",
       "  <tbody>\n",
       "    <tr>\n",
       "      <th>Female</th>\n",
       "      <td>81</td>\n",
       "      <td>14.06</td>\n",
       "    </tr>\n",
       "    <tr>\n",
       "      <th>Male</th>\n",
       "      <td>484</td>\n",
       "      <td>84.03</td>\n",
       "    </tr>\n",
       "    <tr>\n",
       "      <th>Other / Non-Disclosed</th>\n",
       "      <td>11</td>\n",
       "      <td>1.91</td>\n",
       "    </tr>\n",
       "  </tbody>\n",
       "</table>\n",
       "</div>"
      ],
      "text/plain": [
       "                       Total Count  % of Players\n",
       "Gender                                          \n",
       "Female                          81         14.06\n",
       "Male                           484         84.03\n",
       "Other / Non-Disclosed           11          1.91"
      ]
     },
     "execution_count": 4,
     "metadata": {},
     "output_type": "execute_result"
    }
   ],
   "source": [
    "#get gender totals\n",
    "# Group genders\n",
    "genStats = heroFile.groupby('Gender')\n",
    "# count number of unqie screen names for gender totals\n",
    "genDemTot = genStats.nunique()['SN']\n",
    "# calcuate % of each gender\n",
    "genDemPer = ((genDemTot / plyCount)*100)\n",
    "# generate new dataframe\n",
    "genDem = pd.DataFrame({'Total Count': genDemTot,\n",
    "                       '% of Players': genDemPer})\n",
    "# round percent to 2 decimals\n",
    "genDem = genDem.round(2)\n",
    "genDem"
   ]
  },
  {
   "cell_type": "code",
   "execution_count": null,
   "metadata": {},
   "outputs": [],
   "source": []
  },
  {
   "cell_type": "code",
   "execution_count": 5,
   "metadata": {
    "scrolled": true
   },
   "outputs": [
    {
     "data": {
      "text/html": [
       "<div>\n",
       "<style scoped>\n",
       "    .dataframe tbody tr th:only-of-type {\n",
       "        vertical-align: middle;\n",
       "    }\n",
       "\n",
       "    .dataframe tbody tr th {\n",
       "        vertical-align: top;\n",
       "    }\n",
       "\n",
       "    .dataframe thead th {\n",
       "        text-align: right;\n",
       "    }\n",
       "</style>\n",
       "<table border=\"1\" class=\"dataframe\">\n",
       "  <thead>\n",
       "    <tr style=\"text-align: right;\">\n",
       "      <th></th>\n",
       "      <th>Purchase Count</th>\n",
       "      <th>Avg. Purchse Price</th>\n",
       "      <th>Total Purchase Price</th>\n",
       "      <th>Avg. Total Purchase Price per Person</th>\n",
       "    </tr>\n",
       "    <tr>\n",
       "      <th>Gender</th>\n",
       "      <th></th>\n",
       "      <th></th>\n",
       "      <th></th>\n",
       "      <th></th>\n",
       "    </tr>\n",
       "  </thead>\n",
       "  <tbody>\n",
       "    <tr>\n",
       "      <th>Female</th>\n",
       "      <td>113</td>\n",
       "      <td>$3.20</td>\n",
       "      <td>$361.94</td>\n",
       "      <td>$4.47</td>\n",
       "    </tr>\n",
       "    <tr>\n",
       "      <th>Male</th>\n",
       "      <td>652</td>\n",
       "      <td>$3.02</td>\n",
       "      <td>$1,967.64</td>\n",
       "      <td>$4.07</td>\n",
       "    </tr>\n",
       "    <tr>\n",
       "      <th>Other / Non-Disclosed</th>\n",
       "      <td>15</td>\n",
       "      <td>$3.35</td>\n",
       "      <td>$50.19</td>\n",
       "      <td>$4.56</td>\n",
       "    </tr>\n",
       "  </tbody>\n",
       "</table>\n",
       "</div>"
      ],
      "text/plain": [
       "                       Purchase Count  Avg. Purchse Price  \\\n",
       "Gender                                                      \n",
       "Female                            113               $3.20   \n",
       "Male                              652               $3.02   \n",
       "Other / Non-Disclosed              15               $3.35   \n",
       "\n",
       "                       Total Purchase Price  \\\n",
       "Gender                                        \n",
       "Female                              $361.94   \n",
       "Male                              $1,967.64   \n",
       "Other / Non-Disclosed                $50.19   \n",
       "\n",
       "                       Avg. Total Purchase Price per Person  \n",
       "Gender                                                       \n",
       "Female                                                $4.47  \n",
       "Male                                                  $4.07  \n",
       "Other / Non-Disclosed                                 $4.56  "
      ]
     },
     "execution_count": 5,
     "metadata": {},
     "output_type": "execute_result"
    }
   ],
   "source": [
    "# calculate purchase count, avg purchase price, total purchase price, and the average purchase per person\n",
    "genPurCount = genStats['Purchase ID'].count()\n",
    "genAvgPur = genStats['Price'].mean()\n",
    "genTotPur = genStats['Price'].sum()\n",
    "purPerGen = (genTotPur / genDemTot)\n",
    "# test values\n",
    "#genPurCount\n",
    "#genAvgPur\n",
    "#genTotPur\n",
    "#purPerGen\n",
    "# build new DF\n",
    "genDem = pd.DataFrame({'Purchase Count': genPurCount,\n",
    "                       'Avg. Purchse Price': genAvgPur,\n",
    "                       'Total Purchase Price': genTotPur,\n",
    "                       'Avg. Total Purchase Price per Person': purPerGen})\n",
    "# format all float values in DF\n",
    "pd.options.display.float_format = '${:,.2f}'.format\n",
    "\n",
    "genDem\n",
    "# format calculated values"
   ]
  },
  {
   "cell_type": "code",
   "execution_count": null,
   "metadata": {},
   "outputs": [],
   "source": []
  },
  {
   "cell_type": "code",
   "execution_count": 39,
   "metadata": {},
   "outputs": [
    {
     "ename": "IndexError",
     "evalue": "invalid index to scalar variable.",
     "output_type": "error",
     "traceback": [
      "\u001b[1;31m---------------------------------------------------------------------------\u001b[0m",
      "\u001b[1;31mIndexError\u001b[0m                                Traceback (most recent call last)",
      "\u001b[1;32m<ipython-input-39-348e60faef79>\u001b[0m in \u001b[0;36m<module>\u001b[1;34m\u001b[0m\n\u001b[0;32m     15\u001b[0m \u001b[0mageGroups\u001b[0m \u001b[1;33m=\u001b[0m \u001b[1;33m[\u001b[0m\u001b[1;34m'<10'\u001b[0m\u001b[1;33m,\u001b[0m\u001b[1;34m'10-14'\u001b[0m\u001b[1;33m,\u001b[0m\u001b[1;34m'15-19'\u001b[0m\u001b[1;33m,\u001b[0m \u001b[1;34m'20-24'\u001b[0m\u001b[1;33m,\u001b[0m \u001b[1;34m'25-29'\u001b[0m\u001b[1;33m,\u001b[0m \u001b[1;34m'30-34'\u001b[0m\u001b[1;33m,\u001b[0m \u001b[1;34m'35-39'\u001b[0m\u001b[1;33m,\u001b[0m \u001b[1;34m'40+'\u001b[0m\u001b[1;33m]\u001b[0m\u001b[1;33m\u001b[0m\u001b[1;33m\u001b[0m\u001b[0m\n\u001b[0;32m     16\u001b[0m \u001b[1;31m# # add bins into a new DataFrame\u001b[0m\u001b[1;33m\u001b[0m\u001b[1;33m\u001b[0m\u001b[1;33m\u001b[0m\u001b[0m\n\u001b[1;32m---> 17\u001b[1;33m \u001b[0mpurUnique\u001b[0m\u001b[1;33m[\u001b[0m\u001b[1;34m'Age Ranges'\u001b[0m\u001b[1;33m]\u001b[0m \u001b[1;33m=\u001b[0m \u001b[0mpd\u001b[0m\u001b[1;33m.\u001b[0m\u001b[0mcut\u001b[0m\u001b[1;33m(\u001b[0m\u001b[0muniquePlay\u001b[0m\u001b[1;33m[\u001b[0m\u001b[1;34m'Age'\u001b[0m\u001b[1;33m]\u001b[0m\u001b[1;33m,\u001b[0m \u001b[0mageRange\u001b[0m\u001b[1;33m,\u001b[0m \u001b[0mlabels\u001b[0m\u001b[1;33m=\u001b[0m \u001b[0mageGroups\u001b[0m\u001b[1;33m)\u001b[0m\u001b[1;33m\u001b[0m\u001b[1;33m\u001b[0m\u001b[0m\n\u001b[0m\u001b[0;32m     18\u001b[0m \u001b[1;31m# # calcuate column values\u001b[0m\u001b[1;33m\u001b[0m\u001b[1;33m\u001b[0m\u001b[1;33m\u001b[0m\u001b[0m\n\u001b[0;32m     19\u001b[0m \u001b[0magePurCount\u001b[0m \u001b[1;33m=\u001b[0m \u001b[0mpurUnique\u001b[0m\u001b[1;33m[\u001b[0m\u001b[1;34m'Age Ranges'\u001b[0m\u001b[1;33m]\u001b[0m\u001b[1;33m.\u001b[0m\u001b[0mvalue_counts\u001b[0m\u001b[1;33m(\u001b[0m\u001b[1;33m)\u001b[0m\u001b[1;33m\u001b[0m\u001b[1;33m\u001b[0m\u001b[0m\n",
      "\u001b[1;31mIndexError\u001b[0m: invalid index to scalar variable."
     ]
    }
   ],
   "source": [
    "# check ranges\n",
    "#minAge = heroFile.Age.min()\n",
    "#maxAge = heroFile.Age.max()\n",
    "#print(minAge)\n",
    "#print(maxAge)\n",
    "# group by age\n",
    "# ageStats = heroFile.copy()\n",
    "purUnique = heroFile.loc[:,[\"SN\", \"Age\", \"Price\", \"Gender\"]]\n",
    "# purUnique = purUnique.drop_duplicates()\n",
    "# purUnique\n",
    "uniquePlay = purUnique.nunique()['SN']\n",
    "# ageStats = heroFile.copy()\n",
    "# # create bins\n",
    "ageRange = [0, 9.9, 14,19,24,29,34,39,50]\n",
    "ageGroups = ['<10','10-14','15-19', '20-24', '25-29', '30-34', '35-39', '40+']\n",
    "# # add bins into a new DataFrame\n",
    "purUnique['Age Ranges'] = pd.cut(purUnique['Age'], ageRange, labels= ageGroups)\n",
    "# # calcuate column values\n",
    "agePurCount = purUnique['Age Ranges'].value_counts()\n",
    "# ageCount = purUnique['Age Ranges'].nunique()\n",
    "playerPercent = ((agePurCount / uniquePlay)*100)\n",
    "\n",
    "\n",
    "ageDem = pd.DataFrame({'Purchase Count': agePurCount,\n",
    "                       'Percent of Players': playerPercent})\n",
    "\n",
    "pd.options.display.float_format = '%{:,.2f}'.format\n",
    "\n",
    "ageDem\n",
    "purUnique\n",
    "uniquePlay\n",
    "# agePurCount\n",
    "# # format all float values in DF\n",
    "\n",
    "# agePurCount\n",
    "# ageCount\n",
    "\n",
    "\n"
   ]
  },
  {
   "cell_type": "code",
   "execution_count": null,
   "metadata": {},
   "outputs": [],
   "source": []
  },
  {
   "cell_type": "code",
   "execution_count": 24,
   "metadata": {},
   "outputs": [],
   "source": [
    "ageAvgPur = ageStats['Price'].mean()\n",
    "ageTotPur = ageStats['Price'].sum()\n",
    "purPerAge = (ageTotPur / agePurCount)\n",
    "\n",
    "({'Purchase Count': agePurCount,\n",
    "                       'Avg. Purchse Price': ageAvgPur,\n",
    "                       'Total Purchase Price': ageTotPur,\n",
    "                       'Avg. Total Purchase Price per Person': purPerAge})\n",
    "\n",
    "\n",
    "pd.options.display.float_format = '${:,.2f}'.format"
   ]
  },
  {
   "cell_type": "code",
   "execution_count": null,
   "metadata": {},
   "outputs": [],
   "source": []
  },
  {
   "cell_type": "code",
   "execution_count": null,
   "metadata": {},
   "outputs": [],
   "source": []
  }
 ],
 "metadata": {
  "kernelspec": {
   "display_name": "Python 3",
   "language": "python",
   "name": "python3"
  },
  "language_info": {
   "codemirror_mode": {
    "name": "ipython",
    "version": 3
   },
   "file_extension": ".py",
   "mimetype": "text/x-python",
   "name": "python",
   "nbconvert_exporter": "python",
   "pygments_lexer": "ipython3",
   "version": "3.7.1"
  }
 },
 "nbformat": 4,
 "nbformat_minor": 2
}
